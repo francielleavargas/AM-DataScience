{
  "nbformat": 4,
  "nbformat_minor": 0,
  "metadata": {
    "colab": {
      "name": "Exercício - Dados desbalanceados.ipynb",
      "provenance": [],
      "collapsed_sections": [],
      "toc_visible": true
    },
    "kernelspec": {
      "name": "python3",
      "display_name": "Python 3"
    }
  },
  "cells": [
    {
      "cell_type": "markdown",
      "metadata": {
        "id": "HaabIE4ETRhY",
        "colab_type": "text"
      },
      "source": [
        "# Exercício 04\n",
        "## Dados desbalanceados\n",
        "### Alunos:\n",
        "\n",
        "- Francielle Alves Vargas\n",
        "\n",
        "\n",
        "---\n",
        "\n",
        "O dataset que será utilizado nessa questão possui 5 variáveis (`Deviations\tEmotionCount\tNumberWord\tSucRate\tTime2ans`) de entrada numéricas e 1 variável (`True Value`) de saída que representa a classe. Esse problema possui 3 classes possíveis, `-1`, `0` e `1`.\n",
        "\n",
        "**Esse exerício possui material complementar (\"Undersampling e Oversampling\")**"
      ]
    },
    {
      "cell_type": "markdown",
      "metadata": {
        "id": "ICGXF4lBjl_6",
        "colab_type": "text"
      },
      "source": [
        "# New Section"
      ]
    },
    {
      "cell_type": "markdown",
      "metadata": {
        "id": "_YGNezFvvnES",
        "colab_type": "text"
      },
      "source": [
        "### Questão 01.\n",
        "Carregue o dataset `DataBaseDT.csv` e mostre a distribuição das classes:\n",
        "\n",
        "*   Via histograma\n",
        "*   Exibindo o número de ocorrências de cada classe\n",
        "\n"
      ]
    },
    {
      "cell_type": "code",
      "metadata": {
        "id": "IXyPAd32wZq4",
        "colab_type": "code",
        "outputId": "3b1e0a30-2998-4459-b31e-de3a6a1d3bd5",
        "colab": {
          "base_uri": "https://localhost:8080/",
          "height": 565
        }
      },
      "source": [
        "import pandas as pd\n",
        "import numpy as np\n",
        "import matplotlib.pyplot as plt\n",
        "\n",
        "df = pd.read_csv(\"DataBaseDT.csv\")\n",
        "plt.figure(figsize = (10, 7)) \n",
        "x = df[\"True Value\"] \n",
        "plt.hist(x, bins = 'auto', color = \"blue\") \n",
        "plt.title('Distribuição de ocorrências para cada classe')\n",
        "plt.ylabel('Frequencia')\n",
        "plt.xlabel('Classes (-1, 0, 1)')\n",
        "plt.show()\n",
        "\n",
        "print('-----------------------------------------------------------------------')\n",
        "print(df['True Value'].value_counts())\n",
        "print('-----------------------------------------------------------------------')\n"
      ],
      "execution_count": 5,
      "outputs": [
        {
          "output_type": "display_data",
          "data": {
            "image/png": "[encoded data removed]",
            "text/plain": [
              "<Figure size 720x504 with 1 Axes>"
            ]
          },
          "metadata": {
            "tags": [],
            "needs_background": "light"
          }
        },
        {
          "output_type": "stream",
          "text": [
            "-----------------------------------------------------------------------\n",
            "-1    61\n",
            " 1    43\n",
            " 0    13\n",
            "Name: True Value, dtype: int64\n",
            "-----------------------------------------------------------------------\n"
          ],
          "name": "stdout"
        }
      ]
    },
    {
      "cell_type": "markdown",
      "metadata": {
        "id": "ITDds1CcO7M9",
        "colab_type": "text"
      },
      "source": [
        "\n",
        "\n",
        "---\n",
        "\n",
        "### Questão 02.\n",
        "\n",
        "Utilize a técnica de subamostragem aleatória nesse conjunto de dados. Ao final da sua operação, todas as classes devem ter o número de ocorrências da classe com **menor representatividade no conjunto de dados inicial**."
      ]
    },
    {
      "cell_type": "code",
      "metadata": {
        "id": "SU636BmTJzup",
        "colab_type": "code",
        "outputId": "9a119826-5a27-4633-9271-f30ab688b08e",
        "colab": {
          "base_uri": "https://localhost:8080/",
          "height": 388
        }
      },
      "source": [
        "from collections import Counter\n",
        "df['True Value'].value_counts()\n",
        "\n",
        "#renomando a coluna classe\n",
        "df_new = df.rename(columns={'True Value': 'true_value'})\n",
        "\n",
        "#seleciona as columas desbalanciadas\n",
        "classe_1 = df_new[df_new.true_value == -1]\n",
        "classe_2 = df_new[df_new.true_value == 1]\n",
        "\n",
        "#Obtendo a amostra (menor representatividade)\n",
        "sample_1 = classe_1.sample(n=13, replace=False)\n",
        "sample_2 = classe_2.sample(n=13, replace=False)\n",
        "\n",
        "#Concatenando e mostrando novos dados com MENOR representatividade no conjunto de dados inicial.\n",
        "classe_0 = df_new[df_new.true_value == 0]\n",
        "dados_downsampled = pd.concat([classe_0, sample_1, sample_2])\n",
        "dados_downsampled.hist('true_value')\n",
        "\n",
        "print('-----------------------------------------------------------------------')\n",
        "print(dados_downsampled['true_value'].value_counts())\n",
        "print('-----------------------------------------------------------------------')\n"
      ],
      "execution_count": 6,
      "outputs": [
        {
          "output_type": "stream",
          "text": [
            "-----------------------------------------------------------------------\n",
            " 1    13\n",
            "-1    13\n",
            " 0    13\n",
            "Name: true_value, dtype: int64\n",
            "-----------------------------------------------------------------------\n"
          ],
          "name": "stdout"
        },
        {
          "output_type": "display_data",
          "data": {
            "image/png": "[encoded data removed]",
            "text/plain": [
              "<Figure size 432x288 with 1 Axes>"
            ]
          },
          "metadata": {
            "tags": [],
            "needs_background": "light"
          }
        }
      ]
    },
    {
      "cell_type": "markdown",
      "metadata": {
        "id": "iJxBcsRMSEW4",
        "colab_type": "text"
      },
      "source": [
        "\n",
        "\n",
        "---\n",
        "\n",
        "### Questão 03.\n",
        "\n",
        "Utilize a técnica de superamostragem aleatória nesse conjunto de dados. Ao final da sua operação, todas as classes devem ter o número de ocorrências da classe com **maior representatividade no conjunto de dados inicial**."
      ]
    },
    {
      "cell_type": "code",
      "metadata": {
        "id": "D5ElKqy5Kzvs",
        "colab_type": "code",
        "outputId": "d466f922-fb42-442f-fa91-821fa2ce4ef0",
        "colab": {
          "base_uri": "https://localhost:8080/",
          "height": 388
        }
      },
      "source": [
        "#seleciona as columas desbalanciadas\n",
        "classe_1 = df_new[df_new.true_value == 1]\n",
        "classe_2 = df_new[df_new.true_value == 0]\n",
        "\n",
        "#Obtendo a amostra (maior representatividade)\n",
        "sample_1 = classe_1.sample(n=61, replace=True)\n",
        "sample_2 = classe_2.sample(n=61, replace=True)\n",
        "\n",
        "#Concatenando e mostrando novos dados com MAIOR representatividade no conjunto de dados inicial.\n",
        "classe_0 = df_new[df_new.true_value == -1]\n",
        "dados_upsampled = pd.concat([classe_0, sample_1, sample_2])\n",
        "dados_upsampled.hist('true_value')\n",
        "\n",
        "print('-----------------------------------------------------------------------')\n",
        "print(dados_upsampled['true_value'].value_counts())\n",
        "print('-----------------------------------------------------------------------')\n"
      ],
      "execution_count": 7,
      "outputs": [
        {
          "output_type": "stream",
          "text": [
            "-----------------------------------------------------------------------\n",
            " 0    61\n",
            " 1    61\n",
            "-1    61\n",
            "Name: true_value, dtype: int64\n",
            "-----------------------------------------------------------------------\n"
          ],
          "name": "stdout"
        },
        {
          "output_type": "display_data",
          "data": {
            "image/png": "[encoded data removed]",
            "text/plain": [
              "<Figure size 432x288 with 1 Axes>"
            ]
          },
          "metadata": {
            "tags": [],
            "needs_background": "light"
          }
        }
      ]
    },
    {
      "cell_type": "markdown",
      "metadata": {
        "id": "7dIPsLCbSRNk",
        "colab_type": "text"
      },
      "source": [
        "---\n",
        "\n",
        "### Questão 04.\n",
        "\n",
        "Utilize as técnicas de subamostragem e superamostragem nesse conjunto de dados. Ao final da sua operação, todas as classes devem ter o número de ocorrências **igual à $\\frac{tamanho\\_dataset}{3}$**."
      ]
    },
    {
      "cell_type": "code",
      "metadata": {
        "id": "qc-Fx5bRK_kd",
        "colab_type": "code",
        "outputId": "3e69f474-8984-4e50-94f4-60d7f6ff80da",
        "colab": {
          "base_uri": "https://localhost:8080/",
          "height": 388
        }
      },
      "source": [
        "#seleciona todas columas\n",
        "classe_0 = df_new[df_new.true_value == 0]\n",
        "classe_1 = df_new[df_new.true_value == 1]\n",
        "classe_2 = df_new[df_new.true_value == -1]\n",
        "\n",
        "#Obtendo a amostra (sub+sup = dataset/3)\n",
        "sample_0 = classe_0.sample(n=39, replace=True)\n",
        "sample_1 = classe_1.sample(n=39, replace=False)\n",
        "sample_2 = classe_2.sample(n=39, replace=False)\n",
        "\n",
        "#Concatenando e mostrando novos dados com MAIOR representatividade no conjunto de dados inicial.\n",
        "dados_avg = pd.concat([sample_0, sample_1, sample_2])\n",
        "dados_avg.hist('true_value')\n",
        "\n",
        "print('-----------------------------------------------------------------------')\n",
        "print(dados_avg['true_value'].value_counts())\n",
        "print('-----------------------------------------------------------------------')\n"
      ],
      "execution_count": 8,
      "outputs": [
        {
          "output_type": "stream",
          "text": [
            "-----------------------------------------------------------------------\n",
            "-1    39\n",
            " 1    39\n",
            " 0    39\n",
            "Name: true_value, dtype: int64\n",
            "-----------------------------------------------------------------------\n"
          ],
          "name": "stdout"
        },
        {
          "output_type": "display_data",
          "data": {
            "image/png": "[encoded data removed]",
            "text/plain": [
              "<Figure size 432x288 with 1 Axes>"
            ]
          },
          "metadata": {
            "tags": [],
            "needs_background": "light"
          }
        }
      ]
    },
    {
      "cell_type": "markdown",
      "metadata": {
        "id": "Gx86EFEVfTHL",
        "colab_type": "text"
      },
      "source": [
        "\n",
        "\n",
        "---\n",
        "\n",
        "### Questão 05.\n",
        "\n",
        "Para cada um dos conjuntos utilizados nas questões 1 a 4, separe o conjunto de dados em variáveis de entrada e variável alvo e normalize as **variáveis de entrada** entre 0 e 1 (`sklearn.preprocessing.MinMaxScaler`). "
      ]
    },
    {
      "cell_type": "code",
      "metadata": {
        "id": "57RuFi7rfqHX",
        "colab_type": "code",
        "colab": {}
      },
      "source": [
        "from sklearn.preprocessing import MinMaxScaler\n",
        "from sklearn.model_selection import train_test_split\n",
        "\n",
        "\n",
        "#Separando as features\n",
        "X1 = df_new.iloc[:, :-1]\n",
        "X2 = dados_downsampled.iloc[:, :-1]\n",
        "X3 = dados_upsampled.iloc[:, :-1]\n",
        "X4 = dados_avg.iloc[:, :-1]\n",
        "#Separando a classe\n",
        "Y1 = df_new.iloc[:,-1]\n",
        "Y2 = dados_downsampled.iloc[:,-1]\n",
        "Y3 = dados_upsampled.iloc[:,-1]\n",
        "Y4 = dados_avg.iloc[:,-1]\n",
        "#Normalização\n",
        "scaler = MinMaxScaler()\n",
        "X1_train = scaler.fit_transform(X1)\n",
        "X2_train = scaler.fit_transform(X2)\n",
        "X3_train = scaler.fit_transform(X3)\n",
        "X4_train = scaler.fit_transform(X4)\n",
        "\n",
        "y1_train = Y1\n",
        "y2_train = Y2\n",
        "y3_train = Y3\n",
        "y4_train = Y4"
      ],
      "execution_count": 0,
      "outputs": []
    },
    {
      "cell_type": "markdown",
      "metadata": {
        "id": "0Ez_fGsJTdZ_",
        "colab_type": "text"
      },
      "source": [
        "\n",
        "\n",
        "---\n",
        "\n",
        "### Questão 06.\n",
        "\n",
        "Teste o score de classificação, utilizando a função `model_tester` abaixo, para cada um dos conjuntos da questão anterior."
      ]
    },
    {
      "cell_type": "code",
      "metadata": {
        "id": "iGof9cE6Lhzf",
        "colab_type": "code",
        "colab": {}
      },
      "source": [
        "from sklearn.svm import SVC\n",
        "from sklearn.tree import DecisionTreeClassifier\n",
        "from sklearn.model_selection import StratifiedKFold\n",
        "from sklearn.metrics import precision_score\n",
        "from sklearn.metrics import balanced_accuracy_score\n",
        "import numpy as np\n",
        "\n",
        "\n",
        "def model_tester(inputs, target, weights=None):\n",
        "  \"\"\"\n",
        "  Executa classificação do conjunto de dados passado\n",
        "  ---------------------------------------------------------------\n",
        "  inputs:     Variáveis de entrada (X)\n",
        "  target:     Variáveis alvo (y)  \n",
        "  weights:    Dicionário com o peso de cada classe. Cada chave do dicionário é\n",
        "              uma classe, e seu valor o associado a essa classe. Por exemplo, se\n",
        "              tivermos duas classes 0 e 1 com mesmo peso, teremos o dicionario:\n",
        "              {0: 0.5, 1: 0.5}\n",
        "\n",
        "  ---------------------------------------------------------------\n",
        "  Realiza a classificação em 3 modelos (SVM com kernel linear, \n",
        "  SVM com kernel polinomial de grau 3, Árvore de decisão)\n",
        "  O desempenho é calculado utilizando a acurácia balanceada.\n",
        "  \"\"\"\n",
        "\n",
        "  if isinstance(inputs, pd.core.frame.DataFrame):\n",
        "    inputs = inputs.values\n",
        "  if isinstance(target, pd.core.frame.DataFrame) or isinstance(target, pd.core.series.Series):\n",
        "    target = target.values\n",
        "  testes = {\n",
        "    \"SVM Linear\" : SVC(kernel='linear', class_weight=weights),\n",
        "    \"SVM Polinomial grau 3\" : SVC(kernel='poly', degree=3, class_weight=weights),\n",
        "    \"Decision Tree (gini)\" : DecisionTreeClassifier(criterion='gini', class_weight=weights)    \n",
        "  }\n",
        "  for teste in testes:\n",
        "    clf = testes[teste]    \n",
        "    skf = StratifiedKFold(n_splits=10)\n",
        "    scores = []\n",
        "    for train_index, test_index in skf.split(inputs, target):      \n",
        "      X_train, X_test = inputs[train_index], inputs[test_index]\n",
        "      y_train, y_test = target[train_index], target[test_index]\n",
        "      clf.fit(X_train, y_train)\n",
        "      y_pred = clf.predict(X_test)      \n",
        "      # scores.append(precision_score(y_test, y_pred,labels=[-1, 0, 1], average='macro', zero_division=0))\n",
        "      scores.append(balanced_accuracy_score(y_test, y_pred))\n",
        "    print(\"Score do classificador '%s': %.2f\" % (teste, np.mean(scores)*100))"
      ],
      "execution_count": 0,
      "outputs": []
    },
    {
      "cell_type": "code",
      "metadata": {
        "id": "5LsrB3CTNOke",
        "colab_type": "code",
        "colab": {
          "base_uri": "https://localhost:8080/",
          "height": 304
        },
        "outputId": "9c059947-2652-4a1e-e1e1-904318527031"
      },
      "source": [
        "print('-------------------------------------------------------')\n",
        "model_tester(X1_train, y1_train)\n",
        "print('-------------------------------------------------------')\n",
        "model_tester(X2_train, y2_train)\n",
        "print('-------------------------------------------------------')\n",
        "model_tester(X3_train, y3_train)\n",
        "print('-------------------------------------------------------')\n",
        "model_tester(X4_train, y4_train)"
      ],
      "execution_count": 41,
      "outputs": [
        {
          "output_type": "stream",
          "text": [
            "-------------------------------------------------------\n",
            "Score do classificador 'SVM Linear': 58.30\n",
            "Score do classificador 'SVM Polinomial grau 3': 61.10\n",
            "Score do classificador 'Decision Tree (gini)': 59.69\n",
            "-------------------------------------------------------\n",
            "Score do classificador 'SVM Linear': 70.00\n",
            "Score do classificador 'SVM Polinomial grau 3': 65.00\n",
            "Score do classificador 'Decision Tree (gini)': 68.33\n",
            "-------------------------------------------------------\n",
            "Score do classificador 'SVM Linear': 73.41\n",
            "Score do classificador 'SVM Polinomial grau 3': 85.63\n",
            "Score do classificador 'Decision Tree (gini)': 88.41\n",
            "-------------------------------------------------------\n",
            "Score do classificador 'SVM Linear': 67.22\n",
            "Score do classificador 'SVM Polinomial grau 3': 78.89\n",
            "Score do classificador 'Decision Tree (gini)': 89.72\n"
          ],
          "name": "stdout"
        }
      ]
    },
    {
      "cell_type": "markdown",
      "metadata": {
        "id": "MC2T3bs5g6ZO",
        "colab_type": "text"
      },
      "source": [
        "\n",
        "\n",
        "---\n",
        "\n",
        "### Questão 07.\n",
        "\n",
        "Teste o score de classificação no conjunto original alterando o parâmetro `weights`. Esse parâmetro faz com que o algoritmo de classificação leve em conta o peso de cada classe no processo de treinamento. Teste 2 conjuntos de `weights` diferentes e compare com o resultado do conjunto original sem o uso dessa variavel."
      ]
    },
    {
      "cell_type": "code",
      "metadata": {
        "id": "aEF1MGUXkmeO",
        "colab_type": "code",
        "colab": {
          "base_uri": "https://localhost:8080/",
          "height": 286
        },
        "outputId": "3951492d-4242-4cbf-e2d3-65d9a66d1845"
      },
      "source": [
        "print(y1_train.value_counts())\n",
        "\n",
        "print('-------------------------------------------------------')\n",
        "model_tester(X1_train, y1_train)\n",
        "model_tester(X1_train, y1_train, {-1: 0.5, 1: 0.3, 0: 0.2} )\n",
        "model_tester(X1_train, y1_train, {-1: 0.6, 1: 0.2, 0: 0.2} )\n",
        "print('-------------------------------------------------------')\n",
        "\n"
      ],
      "execution_count": 51,
      "outputs": [
        {
          "output_type": "stream",
          "text": [
            "-1    61\n",
            " 1    43\n",
            " 0    13\n",
            "Name: true_value, dtype: int64\n",
            "-------------------------------------------------------\n",
            "Score do classificador 'SVM Linear': 58.30\n",
            "Score do classificador 'SVM Polinomial grau 3': 61.10\n",
            "Score do classificador 'Decision Tree (gini)': 61.02\n",
            "Score do classificador 'SVM Linear': 56.33\n",
            "Score do classificador 'SVM Polinomial grau 3': 58.80\n",
            "Score do classificador 'Decision Tree (gini)': 68.11\n",
            "Score do classificador 'SVM Linear': 55.50\n",
            "Score do classificador 'SVM Polinomial grau 3': 57.30\n",
            "Score do classificador 'Decision Tree (gini)': 61.75\n",
            "-------------------------------------------------------\n"
          ],
          "name": "stdout"
        }
      ]
    }
  ]
}