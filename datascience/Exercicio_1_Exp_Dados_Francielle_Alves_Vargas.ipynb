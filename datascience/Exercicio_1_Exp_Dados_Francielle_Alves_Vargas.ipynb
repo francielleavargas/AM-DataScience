{
  "nbformat": 4,
  "nbformat_minor": 0,
  "metadata": {
    "colab": {
      "name": "Exercicio 1 - Exp. Dados - Francielle Alves Vargas",
      "provenance": [],
      "collapsed_sections": [],
      "toc_visible": true
    },
    "kernelspec": {
      "name": "python3",
      "display_name": "Python 3"
    }
  },
  "cells": [
    {
      "cell_type": "markdown",
      "metadata": {
        "id": "HaabIE4ETRhY",
        "colab_type": "text"
      },
      "source": [
        "# Exercício 01\n",
        "## Exploração de Dados\n",
        "### Alunos:\n",
        "\n",
        "- Francielle Alves Vargas\n",
        "\n",
        "## Dados unidimensionais\n",
        " \n",
        "Suponha dois conjuntos de dados, que representam as notas finais em uma dada disciplina de duas salas com 100 alunos. Os dados foram armazenados nos arquivos \"notas_salas01.txt\" e \"notas_salas02.txt\". \n",
        "\n",
        "Imagine que uma pessoa deseje comparar o desempenho das salas de aula. Considera-se que, **quanto mais alunos foram aprovados, melhor o desempenho da sala**. Suponha que para ser aprovado, um aluno deve ter nota maior que 50. \n",
        "\n",
        "Como medida inicial de desempenho, essa pessoa calculou a média dos dados através do código abaixo:"
      ]
    },
    {
      "cell_type": "code",
      "metadata": {
        "id": "9p4v0FJRMUW_",
        "colab_type": "code",
        "outputId": "91aff2be-2767-4aba-c57c-0cda72c78e13",
        "colab": {
          "base_uri": "https://localhost:8080/",
          "height": 85
        }
      },
      "source": [
        "import numpy as np\n",
        "import pandas as pd\n",
        "\n",
        "salas = []\n",
        "salas.append(np.loadtxt(\"notas_sala01.txt\"))\n",
        "salas.append(np.loadtxt(\"notas_sala02.txt\"))\n",
        "\n",
        "for i in range(0,2):\n",
        "    print(\"--- Sala: %d ---\" % (i+1))\n",
        "    print(\"Média: %f\" % np.mean(salas[i]))        "
      ],
      "execution_count": 0,
      "outputs": [
        {
          "output_type": "stream",
          "text": [
            "--- Sala: 1 ---\n",
            "Média: 60.184709\n",
            "--- Sala: 2 ---\n",
            "Média: 55.184195\n"
          ],
          "name": "stdout"
        }
      ]
    },
    {
      "cell_type": "markdown",
      "metadata": {
        "id": "EjMiZQwCPEm5",
        "colab_type": "text"
      },
      "source": [
        "Com base na média, a pessoa concluiu que a sala 1 obteve um melhor desempenho que a sala 2. \n",
        "\n",
        "### Questão 01. \n",
        "Demonstre o porquê dessa conclusão estar equivocada.\n",
        "   - Dica: Transforme as estruturas `salas[0]` e `salas[1]` em estruturas do tipo `DataFrame` da biblioteca **pandas** e utilize as funções de histograma e/ou boxplot."
      ]
    },
    {
      "cell_type": "code",
      "metadata": {
        "id": "unbEq2aNMeIJ",
        "colab_type": "code",
        "outputId": "e6b151f3-63f9-4d48-f7b4-306a3eadede8",
        "colab": {
          "base_uri": "https://localhost:8080/",
          "height": 691
        }
      },
      "source": [
        "import pandas as pd\n",
        "import matplotlib.pyplot as plt\n",
        "\n",
        "#RESPOSTA: A conclusão está equivocada porque houve mais alunos aprovados (nota maior que 50) na sala 2 que na sala 1. \n",
        "\n",
        "print('-------------Sala 1----------------------------')\n",
        "s1 = pd.read_csv('notas_sala01.txt', names=['notas_sala_1'])\n",
        "for index, row in s1.iterrows():\n",
        "    if row['notas_sala_1'] > 50:\n",
        "    \tv1 = (s1['notas_sala_1'].value_counts())\n",
        "print('Alunos aprovados', '\\n', v1)\n",
        "\n",
        "s1.hist()\n",
        "plt.title('Histograma - Notas Sala 1')\n",
        "plt.ylabel('Qtde')\n",
        "plt.xlabel('Nota')\n",
        "plt.show()\n",
        "\n",
        "#Statistics on the notas_sala01 and notas_sala02 dataframes\n",
        "print('Soma das notas da sala 1:', s1.sum())\n",
        "print('Maior nota da sala 1:', s1.max())\n",
        "print('Menor nota da sala 1:', s1.min())\n",
        "print('Mediana da sala 1:', s1.median())\n"
      ],
      "execution_count": 40,
      "outputs": [
        {
          "output_type": "stream",
          "text": [
            "-------------Sala 1----------------------------\n",
            "Alunos aprovados \n",
            " 100.000000    20\n",
            "0.000000      10\n",
            "46.794623      1\n",
            "30.433777      1\n",
            "65.985441      1\n",
            "              ..\n",
            "56.183173      1\n",
            "67.937661      1\n",
            "59.301551      1\n",
            "33.816668      1\n",
            "61.384753      1\n",
            "Name: notas_sala_1, Length: 72, dtype: int64\n"
          ],
          "name": "stdout"
        },
        {
          "output_type": "display_data",
          "data": {
            "image/png": "[encoded data removed]",
            "text/plain": [
              "<Figure size 432x288 with 1 Axes>"
            ]
          },
          "metadata": {
            "tags": [],
            "needs_background": "light"
          }
        },
        {
          "output_type": "stream",
          "text": [
            "Soma das notas da sala 1: notas_sala_1    6018.470902\n",
            "dtype: float64\n",
            "Maior nota da sala 1: notas_sala_1    100.0\n",
            "dtype: float64\n",
            "Menor nota da sala 1: notas_sala_1    0.0\n",
            "dtype: float64\n",
            "Mediana da sala 1: notas_sala_1    60.367721\n",
            "dtype: float64\n"
          ],
          "name": "stdout"
        }
      ]
    },
    {
      "cell_type": "code",
      "metadata": {
        "id": "PZZn1vtCgSCF",
        "colab_type": "code",
        "outputId": "68e7d588-6a90-470c-ddb2-0f0775a35295",
        "colab": {
          "base_uri": "https://localhost:8080/",
          "height": 709
        }
      },
      "source": [
        "print('----------Sala 2-----------------------------')\n",
        "s2 = pd.read_csv('notas_sala02.txt', names=['notas_sala_2'])\n",
        "for index, row in s2.iterrows():\n",
        "    if row['notas_sala_2'] > 50:\n",
        "    \tv2 = (s2['notas_sala_2'].value_counts())\n",
        "print('Alunos aprovados', '\\n', v2)\n",
        "s2.hist()\n",
        "plt.title('Histograma - Notas Sala 2')\n",
        "plt.ylabel('Qtde')\n",
        "plt.xlabel('Nota')\n",
        "plt.show()\n",
        "print('--------------------------------------------')\n",
        "\n",
        "\n",
        "#Statistics on the notas_sala01 and notas_sala02 dataframes\n",
        "print('Soma das notas da sala 2:', s2.sum())\n",
        "print('Maior nota da sala 2:', s2.max())\n",
        "print('Menor nota da sala 2:', s2.min())\n",
        "print('Mediana da sala 2:', s2.median())\n",
        "\n"
      ],
      "execution_count": 41,
      "outputs": [
        {
          "output_type": "stream",
          "text": [
            "----------Sala 2-----------------------------\n",
            "Alunos aprovados \n",
            " 50.820059    1\n",
            "59.286422    1\n",
            "62.350154    1\n",
            "58.562603    1\n",
            "59.378694    1\n",
            "            ..\n",
            "59.124033    1\n",
            "50.320450    1\n",
            "49.336035    1\n",
            "58.472142    1\n",
            "51.573887    1\n",
            "Name: notas_sala_2, Length: 100, dtype: int64\n"
          ],
          "name": "stdout"
        },
        {
          "output_type": "display_data",
          "data": {
            "image/png": "[encoded data removed]",
            "text/plain": [
              "<Figure size 432x288 with 1 Axes>"
            ]
          },
          "metadata": {
            "tags": [],
            "needs_background": "light"
          }
        },
        {
          "output_type": "stream",
          "text": [
            "--------------------------------------------\n",
            "Soma das notas da sala 2: notas_sala_2    5518.419498\n",
            "dtype: float64\n",
            "Maior nota da sala 2: notas_sala_2    66.395197\n",
            "dtype: float64\n",
            "Menor nota da sala 2: notas_sala_2    44.678143\n",
            "dtype: float64\n",
            "Mediana da sala 2: notas_sala_2    54.925262\n",
            "dtype: float64\n"
          ],
          "name": "stdout"
        }
      ]
    },
    {
      "cell_type": "markdown",
      "metadata": {
        "id": "JZWmSWQkc213",
        "colab_type": "text"
      },
      "source": [
        "\n",
        "\n",
        "---\n",
        "\n",
        "### Questão 02.\n",
        "Calcule o número de aprovados em cada uma das salas.\n",
        "- Dica: Use a função `argwhere` da biblioteca **numpy**."
      ]
    },
    {
      "cell_type": "code",
      "metadata": {
        "id": "H3bTA1hEMiB0",
        "colab_type": "code",
        "outputId": "54f9aef7-8340-4de4-cad8-ec61f81a940d",
        "colab": {
          "base_uri": "https://localhost:8080/",
          "height": 1000
        }
      },
      "source": [
        "import numpy as np\n",
        "\n",
        "lines1 = open('notas_sala01.txt').readlines()\n",
        "lines2 = open('notas_sala02.txt').readlines()\n",
        "\n",
        "print('--------------Sala 1------------------------------')\n",
        "lista1=[float(i.replace('\\n','')) for i in lines1]\n",
        "lista1 = np.array(lista1)\n",
        "aprovados1 = np.argwhere(lista1 > 50)\n",
        "notas_dos_alunos_aprovados1 = lista1[aprovados1]\n",
        "print(\"notas dos alunos aprovados \", '\\n', notas_dos_alunos_aprovados1)\n",
        "print('numero de aprovados', len(aprovados1))\n",
        "\n",
        "\n",
        "print('-----------Sala 2---------------------------------')\n",
        "lista2=[float(i.replace('\\n','')) for i in lines2]\n",
        "lista2 = np.array(lista2)\n",
        "aprovados2 = np.argwhere(lista2 > 50)\n",
        "notas_dos_alunos_aprovados2 = lista2[aprovados2]\n",
        "print(\"notas dos alunos aprovados\", '\\n', notas_dos_alunos_aprovados2)\n",
        "print('numero de aprovados', len(aprovados2))\n",
        "\n"
      ],
      "execution_count": 0,
      "outputs": [
        {
          "output_type": "stream",
          "text": [
            "--------------Sala 1------------------------------\n",
            "notas dos alunos aprovados  \n",
            " [[100.        ]\n",
            " [100.        ]\n",
            " [ 53.44118851]\n",
            " [100.        ]\n",
            " [ 62.01971884]\n",
            " [ 78.35841322]\n",
            " [100.        ]\n",
            " [ 61.55989381]\n",
            " [100.        ]\n",
            " [ 74.46487485]\n",
            " [ 79.82591476]\n",
            " [ 79.96619457]\n",
            " [100.        ]\n",
            " [ 72.43011099]\n",
            " [100.        ]\n",
            " [ 76.68810252]\n",
            " [ 59.69855417]\n",
            " [ 73.69577098]\n",
            " [ 59.30155055]\n",
            " [ 79.61804357]\n",
            " [ 58.2608987 ]\n",
            " [100.        ]\n",
            " [100.        ]\n",
            " [ 52.8588903 ]\n",
            " [100.        ]\n",
            " [ 65.48947143]\n",
            " [ 54.12129428]\n",
            " [ 68.53300972]\n",
            " [ 73.15615629]\n",
            " [ 74.91506189]\n",
            " [ 59.06186547]\n",
            " [ 58.46325721]\n",
            " [ 69.59108191]\n",
            " [ 68.4568641 ]\n",
            " [100.        ]\n",
            " [ 65.98544132]\n",
            " [ 79.00964391]\n",
            " [100.        ]\n",
            " [100.        ]\n",
            " [ 69.7273897 ]\n",
            " [ 67.97629866]\n",
            " [ 58.8379381 ]\n",
            " [ 63.64586774]\n",
            " [100.        ]\n",
            " [100.        ]\n",
            " [100.        ]\n",
            " [ 53.12518269]\n",
            " [ 63.27146576]\n",
            " [ 60.7515777 ]\n",
            " [ 73.64919459]\n",
            " [ 56.18317282]\n",
            " [ 54.8143218 ]\n",
            " [ 55.59840468]\n",
            " [ 54.46329606]\n",
            " [100.        ]\n",
            " [ 61.38475271]\n",
            " [ 58.56631098]\n",
            " [ 77.55096992]\n",
            " [ 71.40164642]\n",
            " [ 63.31001509]\n",
            " [ 59.61827583]\n",
            " [ 59.98386523]\n",
            " [ 65.16333297]\n",
            " [ 52.57929123]\n",
            " [100.        ]\n",
            " [100.        ]\n",
            " [100.        ]\n",
            " [ 67.93766111]]\n",
            "numero de aprovados 68\n",
            "-----------Sala 2---------------------------------\n",
            "notas dos alunos aprovados \n",
            " [[58.06415092]\n",
            " [57.43272883]\n",
            " [62.84765492]\n",
            " [60.3506961 ]\n",
            " [63.98570124]\n",
            " [54.49717588]\n",
            " [62.02691599]\n",
            " [61.38622132]\n",
            " [57.13342974]\n",
            " [55.48716637]\n",
            " [55.7717376 ]\n",
            " [53.42309442]\n",
            " [50.01716933]\n",
            " [50.32045018]\n",
            " [54.73171117]\n",
            " [63.93823062]\n",
            " [57.45362557]\n",
            " [59.37869412]\n",
            " [53.45769364]\n",
            " [56.52756615]\n",
            " [54.33115832]\n",
            " [58.09797276]\n",
            " [59.77064978]\n",
            " [62.13980256]\n",
            " [50.87982834]\n",
            " [54.46954015]\n",
            " [54.1136106 ]\n",
            " [50.82005873]\n",
            " [60.3746365 ]\n",
            " [63.66693894]\n",
            " [62.35015421]\n",
            " [58.50984269]\n",
            " [55.59680598]\n",
            " [61.11058675]\n",
            " [54.16098017]\n",
            " [56.54000086]\n",
            " [58.86615905]\n",
            " [55.06348242]\n",
            " [51.57388677]\n",
            " [54.8621293 ]\n",
            " [52.51706368]\n",
            " [56.69299223]\n",
            " [53.7995097 ]\n",
            " [55.55022268]\n",
            " [51.76709271]\n",
            " [52.63153901]\n",
            " [50.57685766]\n",
            " [50.08562966]\n",
            " [58.99451615]\n",
            " [50.46687708]\n",
            " [54.34732179]\n",
            " [58.47214213]\n",
            " [59.28642227]\n",
            " [55.10867267]\n",
            " [56.62216607]\n",
            " [51.35204669]\n",
            " [51.05147086]\n",
            " [51.45232237]\n",
            " [57.81742503]\n",
            " [51.29009677]\n",
            " [55.53086773]\n",
            " [66.39519729]\n",
            " [50.08880732]\n",
            " [50.84464108]\n",
            " [58.31935461]\n",
            " [50.08953868]\n",
            " [53.40002527]\n",
            " [61.26856249]\n",
            " [57.84859921]\n",
            " [54.56036571]\n",
            " [51.57054383]\n",
            " [58.56260288]\n",
            " [54.9883947 ]\n",
            " [56.00900255]\n",
            " [64.89555193]\n",
            " [51.54789313]\n",
            " [55.08770082]\n",
            " [59.14140633]\n",
            " [54.41321073]\n",
            " [59.12403268]\n",
            " [57.40947469]\n",
            " [50.41925547]\n",
            " [53.35609719]\n",
            " [52.33449693]\n",
            " [53.55221366]\n",
            " [57.11505736]\n",
            " [53.87578147]\n",
            " [52.17506404]\n",
            " [58.71121616]\n",
            " [58.68251495]]\n",
            "numero de aprovados 90\n"
          ],
          "name": "stdout"
        }
      ]
    },
    {
      "cell_type": "markdown",
      "metadata": {
        "id": "eKwZoSVU2VcP",
        "colab_type": "text"
      },
      "source": [
        "## Dados multidimensionais\n",
        "\n",
        "Considere o conjunto Iris, disponível no arquivo `iris.data`.  Ele contém 150 observações sobre 4 características medidas em 3 tipos de flores. \n",
        "\n",
        "O trecho de código abaixo carrega o conjunto, armazena-o na variável `iris` e exibe seu conteúdo.\n",
        "\n"
      ]
    },
    {
      "cell_type": "code",
      "metadata": {
        "id": "yma46nUyUUpS",
        "colab_type": "code",
        "outputId": "056f7d1d-eb0f-4d1e-8acf-aa5780567821",
        "colab": {
          "base_uri": "https://localhost:8080/",
          "height": 419
        }
      },
      "source": [
        "import pandas as pd\n",
        "\n",
        "iris = pd.read_csv(\"iris.data\", header=None)\n",
        "iris"
      ],
      "execution_count": 0,
      "outputs": [
        {
          "output_type": "execute_result",
          "data": {
            "text/html": [
              "<div>\n",
              "<style scoped>\n",
              "    .dataframe tbody tr th:only-of-type {\n",
              "        vertical-align: middle;\n",
              "    }\n",
              "\n",
              "    .dataframe tbody tr th {\n",
              "        vertical-align: top;\n",
              "    }\n",
              "\n",
              "    .dataframe thead th {\n",
              "        text-align: right;\n",
              "    }\n",
              "</style>\n",
              "<table border=\"1\" class=\"dataframe\">\n",
              "  <thead>\n",
              "    <tr style=\"text-align: right;\">\n",
              "      <th></th>\n",
              "      <th>0</th>\n",
              "      <th>1</th>\n",
              "      <th>2</th>\n",
              "      <th>3</th>\n",
              "      <th>4</th>\n",
              "    </tr>\n",
              "  </thead>\n",
              "  <tbody>\n",
              "    <tr>\n",
              "      <th>0</th>\n",
              "      <td>5.1</td>\n",
              "      <td>3.5</td>\n",
              "      <td>1.4</td>\n",
              "      <td>0.2</td>\n",
              "      <td>Iris-setosa</td>\n",
              "    </tr>\n",
              "    <tr>\n",
              "      <th>1</th>\n",
              "      <td>4.9</td>\n",
              "      <td>3.0</td>\n",
              "      <td>1.4</td>\n",
              "      <td>0.2</td>\n",
              "      <td>Iris-setosa</td>\n",
              "    </tr>\n",
              "    <tr>\n",
              "      <th>2</th>\n",
              "      <td>4.7</td>\n",
              "      <td>3.2</td>\n",
              "      <td>1.3</td>\n",
              "      <td>0.2</td>\n",
              "      <td>Iris-setosa</td>\n",
              "    </tr>\n",
              "    <tr>\n",
              "      <th>3</th>\n",
              "      <td>4.6</td>\n",
              "      <td>3.1</td>\n",
              "      <td>1.5</td>\n",
              "      <td>0.2</td>\n",
              "      <td>Iris-setosa</td>\n",
              "    </tr>\n",
              "    <tr>\n",
              "      <th>4</th>\n",
              "      <td>5.0</td>\n",
              "      <td>3.6</td>\n",
              "      <td>1.4</td>\n",
              "      <td>0.2</td>\n",
              "      <td>Iris-setosa</td>\n",
              "    </tr>\n",
              "    <tr>\n",
              "      <th>...</th>\n",
              "      <td>...</td>\n",
              "      <td>...</td>\n",
              "      <td>...</td>\n",
              "      <td>...</td>\n",
              "      <td>...</td>\n",
              "    </tr>\n",
              "    <tr>\n",
              "      <th>145</th>\n",
              "      <td>6.7</td>\n",
              "      <td>3.0</td>\n",
              "      <td>5.2</td>\n",
              "      <td>2.3</td>\n",
              "      <td>Iris-virginica</td>\n",
              "    </tr>\n",
              "    <tr>\n",
              "      <th>146</th>\n",
              "      <td>6.3</td>\n",
              "      <td>2.5</td>\n",
              "      <td>5.0</td>\n",
              "      <td>1.9</td>\n",
              "      <td>Iris-virginica</td>\n",
              "    </tr>\n",
              "    <tr>\n",
              "      <th>147</th>\n",
              "      <td>6.5</td>\n",
              "      <td>3.0</td>\n",
              "      <td>5.2</td>\n",
              "      <td>2.0</td>\n",
              "      <td>Iris-virginica</td>\n",
              "    </tr>\n",
              "    <tr>\n",
              "      <th>148</th>\n",
              "      <td>6.2</td>\n",
              "      <td>3.4</td>\n",
              "      <td>5.4</td>\n",
              "      <td>2.3</td>\n",
              "      <td>Iris-virginica</td>\n",
              "    </tr>\n",
              "    <tr>\n",
              "      <th>149</th>\n",
              "      <td>5.9</td>\n",
              "      <td>3.0</td>\n",
              "      <td>5.1</td>\n",
              "      <td>1.8</td>\n",
              "      <td>Iris-virginica</td>\n",
              "    </tr>\n",
              "  </tbody>\n",
              "</table>\n",
              "<p>150 rows × 5 columns</p>\n",
              "</div>"
            ],
            "text/plain": [
              "       0    1    2    3               4\n",
              "0    5.1  3.5  1.4  0.2     Iris-setosa\n",
              "1    4.9  3.0  1.4  0.2     Iris-setosa\n",
              "2    4.7  3.2  1.3  0.2     Iris-setosa\n",
              "3    4.6  3.1  1.5  0.2     Iris-setosa\n",
              "4    5.0  3.6  1.4  0.2     Iris-setosa\n",
              "..   ...  ...  ...  ...             ...\n",
              "145  6.7  3.0  5.2  2.3  Iris-virginica\n",
              "146  6.3  2.5  5.0  1.9  Iris-virginica\n",
              "147  6.5  3.0  5.2  2.0  Iris-virginica\n",
              "148  6.2  3.4  5.4  2.3  Iris-virginica\n",
              "149  5.9  3.0  5.1  1.8  Iris-virginica\n",
              "\n",
              "[150 rows x 5 columns]"
            ]
          },
          "metadata": {
            "tags": []
          },
          "execution_count": 3
        }
      ]
    },
    {
      "cell_type": "markdown",
      "metadata": {
        "id": "ESFpa2pDU_xu",
        "colab_type": "text"
      },
      "source": [
        "\n",
        "\n",
        "---\n",
        "\n",
        "\n",
        "### Questão 03.\n",
        "\n",
        "Calcule os quatro momentos (média, variância, obliquidade e achatamento) de cada uma das quatro variáveis do conjunto.\n",
        "\n",
        "  - Dica:  cada variável pode ser acessada da forma `iris[i]`, onde `i` é uma das 4 variáveis do conjunto (entre 0 e 3). Utilize as bibliotecas **numpy** para média (mean) e variância (variance) e **Scipy** para obliquidade (skew) e achatamento (kurtosis)."
      ]
    },
    {
      "cell_type": "code",
      "metadata": {
        "id": "5PlJlMtJe_6r",
        "colab_type": "code",
        "outputId": "40e8dd32-f420-428e-fc69-7c44b8e25f4e",
        "colab": {
          "base_uri": "https://localhost:8080/",
          "height": 357
        }
      },
      "source": [
        "import scipy.stats\n",
        "\n",
        "print('--------Média--------')\n",
        "print('0:', iris[0].mean())\n",
        "print('1:', iris[1].mean())\n",
        "print('2:',  iris[2].mean())\n",
        "print('3:', iris[3].mean())\n",
        "print('------Variância------')\n",
        "print('0:', iris[0].var())\n",
        "print('1:', iris[0].var())\n",
        "print('2:', iris[0].var())\n",
        "print('3:', iris[0].var())\n",
        "print('------Obliquidade------')\n",
        "print('0:', scipy.stats.skew(iris[0]))\n",
        "print('1:', scipy.stats.skew(iris[1]))\n",
        "print('2:', scipy.stats.skew(iris[2]))\n",
        "print('3:', scipy.stats.skew(iris[3]))\n",
        "print('------Achatamento------')\n",
        "print('0:', scipy.stats.kurtosis(iris[0]))\n",
        "print('1:', scipy.stats.kurtosis(iris[1]))\n",
        "print('2:', scipy.stats.kurtosis(iris[2]))\n",
        "print('3:', scipy.stats.kurtosis(iris[3]))"
      ],
      "execution_count": 0,
      "outputs": [
        {
          "output_type": "stream",
          "text": [
            "--------Média--------\n",
            "0: 5.843333333333335\n",
            "1: 3.0540000000000007\n",
            "2: 3.7586666666666693\n",
            "3: 1.1986666666666672\n",
            "------Variância------\n",
            "0: 0.6856935123042505\n",
            "1: 0.6856935123042505\n",
            "2: 0.6856935123042505\n",
            "3: 0.6856935123042505\n",
            "------Obliquidade------\n",
            "0: 0.3117530585022963\n",
            "1: 0.330702812773315\n",
            "2: -0.2717119501716388\n",
            "3: -0.10394366626751729\n",
            "------Achatamento------\n",
            "0: -0.5735679489249765\n",
            "1: 0.24144329938318343\n",
            "2: -1.3953593021397128\n",
            "3: -1.3352456441311857\n"
          ],
          "name": "stdout"
        }
      ]
    },
    {
      "cell_type": "markdown",
      "metadata": {
        "id": "ULRqO72eYtBz",
        "colab_type": "text"
      },
      "source": [
        "\n",
        "\n",
        "---\n",
        "\n",
        "### Questão 04.\n",
        "\n",
        "Calcule o histograma e o boxplot de cada uma das quatro variáveis do conjunto. Analise se os dados estão centrados (simetria) e estime qual intervalo contém 50% dos dados (intervalo entre primeiro e terceiro quartil).\n"
      ]
    },
    {
      "cell_type": "code",
      "metadata": {
        "id": "eOgYGH7tBpE2",
        "colab_type": "code",
        "colab": {
          "base_uri": "https://localhost:8080/",
          "height": 477
        },
        "outputId": "ed5e9b77-217f-4426-828b-720bc5cdd9b2"
      },
      "source": [
        "print('0: SepalLengthCm')\n",
        "plt.figure(figsize = (10, 7)) \n",
        "x = iris[0]  \n",
        "plt.hist(x, bins = 20, color = \"green\") \n",
        "plt.title(\"Sepal Length in cm\") \n",
        "plt.xlabel(\"Sepal_Length_cm\") \n",
        "plt.ylabel(\"Count\") \n",
        "plt.show() "
      ],
      "execution_count": 61,
      "outputs": [
        {
          "output_type": "stream",
          "text": [
            "0: SepalLengthCm\n"
          ],
          "name": "stdout"
        },
        {
          "output_type": "display_data",
          "data": {
            "image/png": "[encoded data removed]",
            "text/plain": [
              "<Figure size 720x504 with 1 Axes>"
            ]
          },
          "metadata": {
            "tags": [],
            "needs_background": "light"
          }
        }
      ]
    },
    {
      "cell_type": "code",
      "metadata": {
        "id": "vBLwgVgY0al-",
        "colab_type": "code",
        "colab": {
          "base_uri": "https://localhost:8080/",
          "height": 313
        },
        "outputId": "9c0832b8-b556-42e1-a826-87152603432a"
      },
      "source": [
        "print('1: SepalWidthCm')\n",
        "x = iris[1] \n",
        "plt.hist(x, bins = 20, color = \"green\") \n",
        "plt.title(\"Sepal Width in cm\") \n",
        "plt.xlabel(\"Sepal_Width_cm\") \n",
        "plt.ylabel(\"Count\") \n",
        "plt.show() "
      ],
      "execution_count": 57,
      "outputs": [
        {
          "output_type": "stream",
          "text": [
            "1: SepalWidthCm\n"
          ],
          "name": "stdout"
        },
        {
          "output_type": "display_data",
          "data": {
            "image/png": "[encoded data removed]",
            "text/plain": [
              "<Figure size 432x288 with 1 Axes>"
            ]
          },
          "metadata": {
            "tags": [],
            "needs_background": "light"
          }
        }
      ]
    },
    {
      "cell_type": "code",
      "metadata": {
        "id": "OoFg479_0hKg",
        "colab_type": "code",
        "colab": {
          "base_uri": "https://localhost:8080/",
          "height": 477
        },
        "outputId": "a27f09d0-e8c2-4607-a489-7fd53f6dda65"
      },
      "source": [
        "print('2: PetalLengthincm')\n",
        "plt.figure(figsize = (10, 7)) \n",
        "x = iris[2] \n",
        "plt.hist(x, bins = 20, color = \"green\") \n",
        "plt.title(\"Petal Length in cm\") \n",
        "plt.xlabel(\"Petal_Length_cm\") \n",
        "plt.ylabel(\"Count\") \n",
        "plt.show() "
      ],
      "execution_count": 59,
      "outputs": [
        {
          "output_type": "stream",
          "text": [
            "2: PetalLengthincm\n"
          ],
          "name": "stdout"
        },
        {
          "output_type": "display_data",
          "data": {
            "image/png": "[encoded data removed]",
            "text/plain": [
              "<Figure size 720x504 with 1 Axes>"
            ]
          },
          "metadata": {
            "tags": [],
            "needs_background": "light"
          }
        }
      ]
    },
    {
      "cell_type": "code",
      "metadata": {
        "id": "UZz344B80yQa",
        "colab_type": "code",
        "colab": {
          "base_uri": "https://localhost:8080/",
          "height": 477
        },
        "outputId": "8b2101bd-dd12-45f7-cc17-99abdef0e5d8"
      },
      "source": [
        "print('3: PetalWidthCm')\n",
        "plt.figure(figsize = (10, 7)) \n",
        "x = iris[3] \n",
        "plt.hist(x, bins = 20, color = \"green\") \n",
        "plt.title(\"Petal Width in cm\") \n",
        "plt.xlabel(\"Petal_Width_cm\") \n",
        "plt.ylabel(\"Count\") \n",
        "plt.show()"
      ],
      "execution_count": 60,
      "outputs": [
        {
          "output_type": "stream",
          "text": [
            "3: PetalWidthCm\n"
          ],
          "name": "stdout"
        },
        {
          "output_type": "display_data",
          "data": {
            "image/png": "[encoded data removed]",
            "text/plain": [
              "<Figure size 720x504 with 1 Axes>"
            ]
          },
          "metadata": {
            "tags": [],
            "needs_background": "light"
          }
        }
      ]
    },
    {
      "cell_type": "code",
      "metadata": {
        "id": "T0wllloW1P0t",
        "colab_type": "code",
        "colab": {
          "base_uri": "https://localhost:8080/",
          "height": 427
        },
        "outputId": "e002e955-cbf0-4df4-dcbe-f101805196fc"
      },
      "source": [
        "#Bloxplot\n",
        "plt.figure(figsize = (10, 7)) \n",
        "iris.boxplot() \n",
        "plt.show()"
      ],
      "execution_count": 69,
      "outputs": [
        {
          "output_type": "display_data",
          "data": {
            "image/png": "[encoded data removed]",
            "text/plain": [
              "<Figure size 720x504 with 1 Axes>"
            ]
          },
          "metadata": {
            "tags": [],
            "needs_background": "light"
          }
        }
      ]
    }
  ]
}