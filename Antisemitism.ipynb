{
  "nbformat": 4,
  "nbformat_minor": 0,
  "metadata": {
    "colab": {
      "name": "Antisemitism.ipynb",
      "provenance": [],
      "collapsed_sections": []
    },
    "kernelspec": {
      "name": "python3",
      "display_name": "Python 3"
    },
    "widgets": {
      "application/vnd.jupyter.widget-state+json": {
        "a7a8ca65de604cdeb347f2940bec4208": {
          "model_module": "@jupyter-widgets/controls",
          "model_name": "HBoxModel",
          "state": {
            "_view_name": "HBoxView",
            "_dom_classes": [],
            "_model_name": "HBoxModel",
            "_view_module": "@jupyter-widgets/controls",
            "_model_module_version": "1.5.0",
            "_view_count": null,
            "_view_module_version": "1.5.0",
            "box_style": "",
            "layout": "IPY_MODEL_ca5c0983bc8447cd8123e91be72c484e",
            "_model_module": "@jupyter-widgets/controls",
            "children": [
              "IPY_MODEL_0550e007944d475f8a5a5e6e7658bc7b",
              "IPY_MODEL_873a9c0547de4c0fa5fa2ce1b3880974"
            ]
          }
        },
        "ca5c0983bc8447cd8123e91be72c484e": {
          "model_module": "@jupyter-widgets/base",
          "model_name": "LayoutModel",
          "state": {
            "_view_name": "LayoutView",
            "grid_template_rows": null,
            "right": null,
            "justify_content": null,
            "_view_module": "@jupyter-widgets/base",
            "overflow": null,
            "_model_module_version": "1.2.0",
            "_view_count": null,
            "flex_flow": null,
            "width": null,
            "min_width": null,
            "border": null,
            "align_items": null,
            "bottom": null,
            "_model_module": "@jupyter-widgets/base",
            "top": null,
            "grid_column": null,
            "overflow_y": null,
            "overflow_x": null,
            "grid_auto_flow": null,
            "grid_area": null,
            "grid_template_columns": null,
            "flex": null,
            "_model_name": "LayoutModel",
            "justify_items": null,
            "grid_row": null,
            "max_height": null,
            "align_content": null,
            "visibility": null,
            "align_self": null,
            "height": null,
            "min_height": null,
            "padding": null,
            "grid_auto_rows": null,
            "grid_gap": null,
            "max_width": null,
            "order": null,
            "_view_module_version": "1.2.0",
            "grid_template_areas": null,
            "object_position": null,
            "object_fit": null,
            "grid_auto_columns": null,
            "margin": null,
            "display": null,
            "left": null
          }
        },
        "0550e007944d475f8a5a5e6e7658bc7b": {
          "model_module": "@jupyter-widgets/controls",
          "model_name": "FloatProgressModel",
          "state": {
            "_view_name": "ProgressView",
            "style": "IPY_MODEL_a9f1e3b2366b49cd8e41141d391335a5",
            "_dom_classes": [],
            "description": "Batches: 100%",
            "_model_name": "FloatProgressModel",
            "bar_style": "success",
            "max": 29,
            "_view_module": "@jupyter-widgets/controls",
            "_model_module_version": "1.5.0",
            "value": 29,
            "_view_count": null,
            "_view_module_version": "1.5.0",
            "orientation": "horizontal",
            "min": 0,
            "description_tooltip": null,
            "_model_module": "@jupyter-widgets/controls",
            "layout": "IPY_MODEL_553c2900dfb44b83a0fd46b79e99472d"
          }
        },
        "873a9c0547de4c0fa5fa2ce1b3880974": {
          "model_module": "@jupyter-widgets/controls",
          "model_name": "HTMLModel",
          "state": {
            "_view_name": "HTMLView",
            "style": "IPY_MODEL_7a91791ce47643169f6fd43a03dc7db1",
            "_dom_classes": [],
            "description": "",
            "_model_name": "HTMLModel",
            "placeholder": "​",
            "_view_module": "@jupyter-widgets/controls",
            "_model_module_version": "1.5.0",
            "value": " 29/29 [01:23&lt;00:00,  2.88s/it]",
            "_view_count": null,
            "_view_module_version": "1.5.0",
            "description_tooltip": null,
            "_model_module": "@jupyter-widgets/controls",
            "layout": "IPY_MODEL_f518dcc6d53f4fcd8fb8508df7057560"
          }
        },
        "a9f1e3b2366b49cd8e41141d391335a5": {
          "model_module": "@jupyter-widgets/controls",
          "model_name": "ProgressStyleModel",
          "state": {
            "_view_name": "StyleView",
            "_model_name": "ProgressStyleModel",
            "description_width": "initial",
            "_view_module": "@jupyter-widgets/base",
            "_model_module_version": "1.5.0",
            "_view_count": null,
            "_view_module_version": "1.2.0",
            "bar_color": null,
            "_model_module": "@jupyter-widgets/controls"
          }
        },
        "553c2900dfb44b83a0fd46b79e99472d": {
          "model_module": "@jupyter-widgets/base",
          "model_name": "LayoutModel",
          "state": {
            "_view_name": "LayoutView",
            "grid_template_rows": null,
            "right": null,
            "justify_content": null,
            "_view_module": "@jupyter-widgets/base",
            "overflow": null,
            "_model_module_version": "1.2.0",
            "_view_count": null,
            "flex_flow": null,
            "width": null,
            "min_width": null,
            "border": null,
            "align_items": null,
            "bottom": null,
            "_model_module": "@jupyter-widgets/base",
            "top": null,
            "grid_column": null,
            "overflow_y": null,
            "overflow_x": null,
            "grid_auto_flow": null,
            "grid_area": null,
            "grid_template_columns": null,
            "flex": null,
            "_model_name": "LayoutModel",
            "justify_items": null,
            "grid_row": null,
            "max_height": null,
            "align_content": null,
            "visibility": null,
            "align_self": null,
            "height": null,
            "min_height": null,
            "padding": null,
            "grid_auto_rows": null,
            "grid_gap": null,
            "max_width": null,
            "order": null,
            "_view_module_version": "1.2.0",
            "grid_template_areas": null,
            "object_position": null,
            "object_fit": null,
            "grid_auto_columns": null,
            "margin": null,
            "display": null,
            "left": null
          }
        },
        "7a91791ce47643169f6fd43a03dc7db1": {
          "model_module": "@jupyter-widgets/controls",
          "model_name": "DescriptionStyleModel",
          "state": {
            "_view_name": "StyleView",
            "_model_name": "DescriptionStyleModel",
            "description_width": "",
            "_view_module": "@jupyter-widgets/base",
            "_model_module_version": "1.5.0",
            "_view_count": null,
            "_view_module_version": "1.2.0",
            "_model_module": "@jupyter-widgets/controls"
          }
        },
        "f518dcc6d53f4fcd8fb8508df7057560": {
          "model_module": "@jupyter-widgets/base",
          "model_name": "LayoutModel",
          "state": {
            "_view_name": "LayoutView",
            "grid_template_rows": null,
            "right": null,
            "justify_content": null,
            "_view_module": "@jupyter-widgets/base",
            "overflow": null,
            "_model_module_version": "1.2.0",
            "_view_count": null,
            "flex_flow": null,
            "width": null,
            "min_width": null,
            "border": null,
            "align_items": null,
            "bottom": null,
            "_model_module": "@jupyter-widgets/base",
            "top": null,
            "grid_column": null,
            "overflow_y": null,
            "overflow_x": null,
            "grid_auto_flow": null,
            "grid_area": null,
            "grid_template_columns": null,
            "flex": null,
            "_model_name": "LayoutModel",
            "justify_items": null,
            "grid_row": null,
            "max_height": null,
            "align_content": null,
            "visibility": null,
            "align_self": null,
            "height": null,
            "min_height": null,
            "padding": null,
            "grid_auto_rows": null,
            "grid_gap": null,
            "max_width": null,
            "order": null,
            "_view_module_version": "1.2.0",
            "grid_template_areas": null,
            "object_position": null,
            "object_fit": null,
            "grid_auto_columns": null,
            "margin": null,
            "display": null,
            "left": null
          }
        }
      }
    }
  },
  "cells": [
    {
      "cell_type": "code",
      "metadata": {
        "id": "F9M4dOFGAWzR",
        "outputId": "4aece11c-819f-48c1-d4e3-b10dbc2349bb",
        "colab": {
          "base_uri": "https://localhost:8080/",
          "height": 194
        }
      },
      "source": [
        "!pip install emoji"
      ],
      "execution_count": 2,
      "outputs": [
        {
          "output_type": "stream",
          "text": [
            "Collecting emoji\n",
            "\u001b[?25l  Downloading https://files.pythonhosted.org/packages/ff/1c/1f1457fe52d0b30cbeebfd578483cedb3e3619108d2d5a21380dfecf8ffd/emoji-0.6.0.tar.gz (51kB)\n",
            "\r\u001b[K     |██████▍                         | 10kB 7.9MB/s eta 0:00:01\r\u001b[K     |████████████▉                   | 20kB 1.7MB/s eta 0:00:01\r\u001b[K     |███████████████████▎            | 30kB 2.2MB/s eta 0:00:01\r\u001b[K     |█████████████████████████▊      | 40kB 2.5MB/s eta 0:00:01\r\u001b[K     |████████████████████████████████| 51kB 1.5MB/s \n",
            "\u001b[?25hBuilding wheels for collected packages: emoji\n",
            "  Building wheel for emoji (setup.py) ... \u001b[?25l\u001b[?25hdone\n",
            "  Created wheel for emoji: filename=emoji-0.6.0-cp36-none-any.whl size=49716 sha256=65ae2451f03be053a44a6f0f8ed5384b9a8c46a8ee8cee3739730b8587b69c60\n",
            "  Stored in directory: /root/.cache/pip/wheels/46/2c/8b/9dcf5216ca68e14e0320e283692dce8ae321cdc01e73e17796\n",
            "Successfully built emoji\n",
            "Installing collected packages: emoji\n",
            "Successfully installed emoji-0.6.0\n"
          ],
          "name": "stdout"
        }
      ]
    },
    {
      "cell_type": "code",
      "metadata": {
        "id": "PlcTdRAg6w12"
      },
      "source": [
        "from spacy.lang.en.stop_words import STOP_WORDS\n",
        "from nltk.stem import WordNetLemmatizer\n",
        "from spacy.lang.en import English \n",
        "from collections import Counter\n",
        "import matplotlib.pyplot as plt\n",
        "from spacy.lang.en.stop_words import STOP_WORDS\n",
        "from sklearn.feature_extraction.text import TfidfVectorizer\n",
        "from spacy.lang.en import English\n",
        "from textblob import TextBlob as tb\n",
        "from sklearn import model_selection\n",
        "from sklearn.metrics import classification_report\n",
        "from sklearn.metrics import confusion_matrix\n",
        "from sklearn.metrics import accuracy_score\n",
        "from sklearn.linear_model import LogisticRegression\n",
        "from sklearn.tree import DecisionTreeClassifier\n",
        "from sklearn.neighbors import KNeighborsClassifier\n",
        "from sklearn.discriminant_analysis import LinearDiscriminantAnalysis\n",
        "from sklearn.naive_bayes import GaussianNB\n",
        "from sklearn.linear_model import Perceptron\n",
        "from sklearn.svm import SVC\n",
        "import numpy as np\n",
        "import pandas as pd\n",
        "import string\n",
        "import csv\n",
        "#import langid\n",
        "import emoji\n",
        "import spacy\n",
        "import json\n",
        "import nltk\n",
        "import re\n",
        "\n",
        "nlp = spacy.load(\"en_core_web_sm\")\n"
      ],
      "execution_count": 66,
      "outputs": []
    },
    {
      "cell_type": "code",
      "metadata": {
        "id": "VcBoLBYamehw",
        "outputId": "35fb29b7-16d5-41cd-cf01-4f4802c7d97f",
        "colab": {
          "base_uri": "https://localhost:8080/",
          "height": 552
        }
      },
      "source": [
        "#BERT Pre-trained\n",
        "!pip install -U sentence-transformers\n",
        "from sentence_transformers import SentenceTransformer, LoggingHandler\n",
        "import numpy as np\n",
        "import logging\n",
        "\n",
        "#### Just some code to print debug information to stdout\n",
        "np.set_printoptions(threshold=100)\n",
        "\n",
        "logging.basicConfig(format='%(asctime)s - %(message)s',\n",
        "                    datefmt='%Y-%m-%d %H:%M:%S',\n",
        "                    level=logging.INFO,\n",
        "                    handlers=[LoggingHandler()])\n",
        "\n",
        "# Load Sentence model (based on BERT) from URL\n",
        "model = SentenceTransformer('distiluse-base-multilingual-cased')"
      ],
      "execution_count": 67,
      "outputs": [
        {
          "output_type": "stream",
          "text": [
            "Requirement already up-to-date: sentence-transformers in /usr/local/lib/python3.6/dist-packages (0.3.7.2)\n",
            "Requirement already satisfied, skipping upgrade: tqdm in /usr/local/lib/python3.6/dist-packages (from sentence-transformers) (4.41.1)\n",
            "Requirement already satisfied, skipping upgrade: transformers<3.4.0,>=3.1.0 in /usr/local/lib/python3.6/dist-packages (from sentence-transformers) (3.3.1)\n",
            "Requirement already satisfied, skipping upgrade: scipy in /usr/local/lib/python3.6/dist-packages (from sentence-transformers) (1.4.1)\n",
            "Requirement already satisfied, skipping upgrade: torch>=1.2.0 in /usr/local/lib/python3.6/dist-packages (from sentence-transformers) (1.6.0+cu101)\n",
            "Requirement already satisfied, skipping upgrade: nltk in /usr/local/lib/python3.6/dist-packages (from sentence-transformers) (3.2.5)\n",
            "Requirement already satisfied, skipping upgrade: scikit-learn in /usr/local/lib/python3.6/dist-packages (from sentence-transformers) (0.22.2.post1)\n",
            "Requirement already satisfied, skipping upgrade: numpy in /usr/local/lib/python3.6/dist-packages (from sentence-transformers) (1.18.5)\n",
            "Requirement already satisfied, skipping upgrade: packaging in /usr/local/lib/python3.6/dist-packages (from transformers<3.4.0,>=3.1.0->sentence-transformers) (20.4)\n",
            "Requirement already satisfied, skipping upgrade: tokenizers==0.8.1.rc2 in /usr/local/lib/python3.6/dist-packages (from transformers<3.4.0,>=3.1.0->sentence-transformers) (0.8.1rc2)\n",
            "Requirement already satisfied, skipping upgrade: sentencepiece!=0.1.92 in /usr/local/lib/python3.6/dist-packages (from transformers<3.4.0,>=3.1.0->sentence-transformers) (0.1.91)\n",
            "Requirement already satisfied, skipping upgrade: regex!=2019.12.17 in /usr/local/lib/python3.6/dist-packages (from transformers<3.4.0,>=3.1.0->sentence-transformers) (2019.12.20)\n",
            "Requirement already satisfied, skipping upgrade: requests in /usr/local/lib/python3.6/dist-packages (from transformers<3.4.0,>=3.1.0->sentence-transformers) (2.23.0)\n",
            "Requirement already satisfied, skipping upgrade: filelock in /usr/local/lib/python3.6/dist-packages (from transformers<3.4.0,>=3.1.0->sentence-transformers) (3.0.12)\n",
            "Requirement already satisfied, skipping upgrade: sacremoses in /usr/local/lib/python3.6/dist-packages (from transformers<3.4.0,>=3.1.0->sentence-transformers) (0.0.43)\n",
            "Requirement already satisfied, skipping upgrade: dataclasses; python_version < \"3.7\" in /usr/local/lib/python3.6/dist-packages (from transformers<3.4.0,>=3.1.0->sentence-transformers) (0.7)\n",
            "Requirement already satisfied, skipping upgrade: future in /usr/local/lib/python3.6/dist-packages (from torch>=1.2.0->sentence-transformers) (0.16.0)\n",
            "Requirement already satisfied, skipping upgrade: six in /usr/local/lib/python3.6/dist-packages (from nltk->sentence-transformers) (1.15.0)\n",
            "Requirement already satisfied, skipping upgrade: joblib>=0.11 in /usr/local/lib/python3.6/dist-packages (from scikit-learn->sentence-transformers) (0.16.0)\n",
            "Requirement already satisfied, skipping upgrade: pyparsing>=2.0.2 in /usr/local/lib/python3.6/dist-packages (from packaging->transformers<3.4.0,>=3.1.0->sentence-transformers) (2.4.7)\n",
            "Requirement already satisfied, skipping upgrade: certifi>=2017.4.17 in /usr/local/lib/python3.6/dist-packages (from requests->transformers<3.4.0,>=3.1.0->sentence-transformers) (2020.6.20)\n",
            "Requirement already satisfied, skipping upgrade: chardet<4,>=3.0.2 in /usr/local/lib/python3.6/dist-packages (from requests->transformers<3.4.0,>=3.1.0->sentence-transformers) (3.0.4)\n",
            "Requirement already satisfied, skipping upgrade: idna<3,>=2.5 in /usr/local/lib/python3.6/dist-packages (from requests->transformers<3.4.0,>=3.1.0->sentence-transformers) (2.10)\n",
            "Requirement already satisfied, skipping upgrade: urllib3!=1.25.0,!=1.25.1,<1.26,>=1.21.1 in /usr/local/lib/python3.6/dist-packages (from requests->transformers<3.4.0,>=3.1.0->sentence-transformers) (1.24.3)\n",
            "Requirement already satisfied, skipping upgrade: click in /usr/local/lib/python3.6/dist-packages (from sacremoses->transformers<3.4.0,>=3.1.0->sentence-transformers) (7.1.2)\n",
            "2020-10-05 15:05:19 - Load pretrained SentenceTransformer: distiluse-base-multilingual-cased\n",
            "2020-10-05 15:05:19 - Did not find folder distiluse-base-multilingual-cased. Assume to download model from server.\n",
            "2020-10-05 15:05:19 - Load SentenceTransformer from folder: /root/.cache/torch/sentence_transformers/sbert.net_models_distiluse-base-multilingual-cased\n",
            "2020-10-05 15:05:23 - Use pytorch device: cpu\n"
          ],
          "name": "stdout"
        }
      ]
    },
    {
      "cell_type": "code",
      "metadata": {
        "id": "5TAAJyBcVlDn",
        "outputId": "b955141e-7e1d-44e6-e857-d8ac38d48139",
        "colab": {
          "base_uri": "https://localhost:8080/",
          "height": 406
        }
      },
      "source": [
        "dataset = pd.read_csv('tweets_df.csv')\n",
        "dataset = dataset.sample(frac=1)\n",
        "texts=dataset['tweet'].to_list()\n",
        "dataset\n"
      ],
      "execution_count": 68,
      "outputs": [
        {
          "output_type": "execute_result",
          "data": {
            "text/html": [
              "<div>\n",
              "<style scoped>\n",
              "    .dataframe tbody tr th:only-of-type {\n",
              "        vertical-align: middle;\n",
              "    }\n",
              "\n",
              "    .dataframe tbody tr th {\n",
              "        vertical-align: top;\n",
              "    }\n",
              "\n",
              "    .dataframe thead th {\n",
              "        text-align: right;\n",
              "    }\n",
              "</style>\n",
              "<table border=\"1\" class=\"dataframe\">\n",
              "  <thead>\n",
              "    <tr style=\"text-align: right;\">\n",
              "      <th></th>\n",
              "      <th>tweet</th>\n",
              "      <th>class</th>\n",
              "    </tr>\n",
              "  </thead>\n",
              "  <tbody>\n",
              "    <tr>\n",
              "      <th>535</th>\n",
              "      <td>@MrRussert @chucktodd @BernieSanders My Great-...</td>\n",
              "      <td>1</td>\n",
              "    </tr>\n",
              "    <tr>\n",
              "      <th>791</th>\n",
              "      <td>🚐 RT This: #MAGA The issue of kikes in the nea...</td>\n",
              "      <td>4</td>\n",
              "    </tr>\n",
              "    <tr>\n",
              "      <th>375</th>\n",
              "      <td>Looks like an incurable case of TDS to me. Poo...</td>\n",
              "      <td>1</td>\n",
              "    </tr>\n",
              "    <tr>\n",
              "      <th>199</th>\n",
              "      <td>Gantz doesn’t want a government serving Jews a...</td>\n",
              "      <td>1</td>\n",
              "    </tr>\n",
              "    <tr>\n",
              "      <th>544</th>\n",
              "      <td>#YuvaratnaaDialogueTeaser \\nReal Time Views Up...</td>\n",
              "      <td>1</td>\n",
              "    </tr>\n",
              "    <tr>\n",
              "      <th>...</th>\n",
              "      <td>...</td>\n",
              "      <td>...</td>\n",
              "    </tr>\n",
              "    <tr>\n",
              "      <th>543</th>\n",
              "      <td>Jews living or visiting #Europe feel the need ...</td>\n",
              "      <td>1</td>\n",
              "    </tr>\n",
              "    <tr>\n",
              "      <th>910</th>\n",
              "      <td>The group also accuses ALL Jews of corruption,...</td>\n",
              "      <td>1</td>\n",
              "    </tr>\n",
              "    <tr>\n",
              "      <th>704</th>\n",
              "      <td>If the story was:\\n\\nJews (or Christians) are ...</td>\n",
              "      <td>1</td>\n",
              "    </tr>\n",
              "    <tr>\n",
              "      <th>807</th>\n",
              "      <td>Ilhan faced as much hate from zionazis in her ...</td>\n",
              "      <td>5</td>\n",
              "    </tr>\n",
              "    <tr>\n",
              "      <th>512</th>\n",
              "      <td>\"Sorry kikes, facts don't care about your feel...</td>\n",
              "      <td>5</td>\n",
              "    </tr>\n",
              "  </tbody>\n",
              "</table>\n",
              "<p>916 rows × 2 columns</p>\n",
              "</div>"
            ],
            "text/plain": [
              "                                                 tweet  class\n",
              "535  @MrRussert @chucktodd @BernieSanders My Great-...      1\n",
              "791  🚐 RT This: #MAGA The issue of kikes in the nea...      4\n",
              "375  Looks like an incurable case of TDS to me. Poo...      1\n",
              "199  Gantz doesn’t want a government serving Jews a...      1\n",
              "544  #YuvaratnaaDialogueTeaser \\nReal Time Views Up...      1\n",
              "..                                                 ...    ...\n",
              "543  Jews living or visiting #Europe feel the need ...      1\n",
              "910  The group also accuses ALL Jews of corruption,...      1\n",
              "704  If the story was:\\n\\nJews (or Christians) are ...      1\n",
              "807  Ilhan faced as much hate from zionazis in her ...      5\n",
              "512  \"Sorry kikes, facts don't care about your feel...      5\n",
              "\n",
              "[916 rows x 2 columns]"
            ]
          },
          "metadata": {
            "tags": []
          },
          "execution_count": 68
        }
      ]
    },
    {
      "cell_type": "code",
      "metadata": {
        "id": "owfmiRKFr3G3",
        "outputId": "963b7823-582c-4268-ad50-87989a47394e",
        "colab": {
          "base_uri": "https://localhost:8080/",
          "height": 564
        }
      },
      "source": [
        "plt.figure(figsize = (10, 7)) \n",
        "x = dataset['class'] \n",
        "plt.hist(x, bins = 'auto', color = \"blue\") \n",
        "plt.title('Distribuição de ocorrências para cada classe')\n",
        "plt.ylabel('Frequencia')\n",
        "plt.xlabel('Classes (-1, 0, 1)')\n",
        "plt.show()\n",
        "#-----------------------------------------------------------\n",
        "dataset['class'].value_counts()"
      ],
      "execution_count": 69,
      "outputs": [
        {
          "output_type": "display_data",
          "data": {
            "image/png": "[encoded data removed]",
            "text/plain": [
              "<Figure size 720x504 with 1 Axes>"
            ]
          },
          "metadata": {
            "tags": [],
            "needs_background": "light"
          }
        },
        {
          "output_type": "execute_result",
          "data": {
            "text/plain": [
              "1    415\n",
              "5    263\n",
              "4    150\n",
              "3     49\n",
              "2     39\n",
              "Name: class, dtype: int64"
            ]
          },
          "metadata": {
            "tags": []
          },
          "execution_count": 69
        }
      ]
    },
    {
      "cell_type": "code",
      "metadata": {
        "id": "Bj3B-ZJKRuZa",
        "outputId": "2d82212e-51a6-4bdf-f084-b51daebe2190",
        "colab": {
          "base_uri": "https://localhost:8080/",
          "height": 238
        }
      },
      "source": [
        "df_lematized = [] # Armazena a lista de itens normalizados\n",
        "sent_score = [] # Lista vazia para armazenar scores de sentimentos\n",
        "\n",
        "#Reading the list of aspects \n",
        "with open('holocaust_lexicon.txt') as f:\n",
        "    holocaust = f.read().lower().splitlines()\n",
        "\n",
        "#Create the column for part of speech frequency analysis\n",
        "COLUNAS = [\n",
        "        'NOUN'\n",
        "        'ADJ',\n",
        "        #'ADP',\n",
        "        'ADV',\n",
        "        #'AUX',\n",
        "        #'CONJ',\n",
        "        #'DET',\n",
        "        #'INTJ',\n",
        "        #'NUM',\n",
        "        #'PART',\n",
        "        #'PRON',\n",
        "        #'PROPN',\n",
        "        #'PUNCT',\n",
        "        'CCONJ',\n",
        "        #'SCONJ',\n",
        "        #'SYM',\n",
        "        'VERB',\n",
        "        #'SPACE',\n",
        "        #'X'\n",
        "    ]\n",
        "df_partofspeech = pd.DataFrame(columns=COLUNAS)\n",
        "\n",
        "#Create the column for holocaust frequency analysis\n",
        "COLUNAS_1 = [\n",
        "        'HOLOC',\n",
        "            ]\n",
        "\n",
        "df_holocaust = pd.DataFrame(columns=COLUNAS_1)\n",
        "\n",
        "#functions\n",
        "def give_emoji_free_text(text):\n",
        "\tallchars = [str for str in text]\n",
        "\temoji_list = [c for c in allchars if c in emoji.UNICODE_EMOJI]\n",
        "\tclean_text = ' '.join([str for str in text.split() if not any(i in str for i in emoji_list)])\n",
        "\treturn clean_text\n",
        "\n",
        "for texts in dataset['tweet']:\n",
        "  texts = texts.lower() \n",
        "  texts = texts.lstrip()\n",
        "  texts = texts.replace(r\"(http|@)\\S+\", \"\")\n",
        "  texts = re.sub(r'http\\S+', '', texts)\n",
        "  texts = texts.replace(r\"[^a-z\\':_]\", \"\")\n",
        "  texts = texts.replace(r\"(can't|cannot)\", 'can not')\n",
        "  texts = texts.replace(r\"n't\", ' not')\n",
        "  texts = give_emoji_free_text(texts)\n",
        "  texts = re.sub('@[^\\s]+','',texts) #remove usernames\n",
        "  texts = ' '.join(re.sub(\"(@[A-Za-z0-9]+)|(#[A-Za-z0-9]+)\", \" \", texts).split())\n",
        "  texts = texts.replace(r'#அன்புள்ளசூர்யா', \"\")\n",
        "  texts = texts.replace(r'「黒豚、ユダ豚、イタ豚を、俺は見下さん すべて平等に価値がない！」', \"\")\n",
        "  texts = texts.replace(r'3⃣', \"\")\n",
        "  texts = texts.replace(r'#⃣', \"\")\n",
        "  texts = texts.replace(r'7⃣', \"\")\n",
        "  texts = texts.replace(r'6⃣', \"\")\n",
        "  texts = texts.replace(r'6⃣', \"\")\n",
        "  texts = texts.replace(r'1⃣', \"\")\n",
        "  texts = texts.replace(r'0⃣', \"\")\n",
        "  texts = texts.replace(r'♡', \"\")\n",
        "  texts = texts.replace(r'9⃣', \"\")\n",
        "  texts = texts.replace(r'4⃣', \"\")\n",
        "  texts = texts.replace(r'&', \"\")\n",
        "  texts = texts.replace(r'*', \"\")\n",
        "  texts = texts.replace(r'[', \"\")\n",
        "  texts = texts.replace(r']', \"\")\n",
        "  texts = texts.replace(r\"::\", \": :\")\n",
        "  texts = texts.replace(r\"’\", \"\")\n",
        "  texts = texts.replace(r\"|\", \"\")\n",
        "  texts = texts.replace(r\"/\", \"\")\n",
        "  texts = texts.replace(r\"\", \"\")\n",
        "  texts = texts.replace(r\"\", \"\")\n",
        "  texts = texts.replace(r\"'\", \"\")\n",
        "  texts = texts.replace(r\"*\", \"\")\n",
        "  texts = texts.replace(r\"!\", \"\")\n",
        "  texts = texts.replace(r\"?\", \"\")\n",
        "  texts = texts.replace(r\"«\", \"\")\n",
        "  texts = texts.replace(r\"»\", \"\")\n",
        "  texts = texts.replace(r\"(\", \"\")\n",
        "  texts = texts.replace(r\"‘\", \"\")\n",
        "  texts = texts.replace(r\"“\", \"\")\n",
        "  texts = texts.replace(r\"”\", \"\")\n",
        "  texts = texts.replace(r\"“\", \"\")\n",
        "  texts = texts.replace(r\";\", \"\") \n",
        "  texts = texts.replace(r\",\", \"\")\n",
        "  texts = texts.replace(r'\"', \"\")\n",
        "  texts = texts.replace(r':', \"\")\n",
        "  texts = texts.replace(r'&', \"\")\n",
        "  texts = texts.replace(r\")\", \"\")\n",
        "  texts = texts.replace(r'¿', \"\")\n",
        "  texts = texts.replace(r'...', \"\")\n",
        "  texts = texts.replace(r'=', \"\")\n",
        "  texts = texts.replace(r'-', \"\")\n",
        "  texts = texts.replace(r'—', \"\")\n",
        "  texts = texts.replace(r'+', \"\")\n",
        "  texts = texts.replace(r'.', \"\")\n",
        "\n",
        "  #Twitter classification\n",
        "  analysis = None\n",
        "  analysis = tb(texts)\n",
        "  polarity = analysis.sentiment.polarity\n",
        "  sent_score.append(polarity)\n",
        "  \n",
        "  #Spacy Library\n",
        "  doc = nlp(texts)\n",
        "\n",
        "  count_dict = {\n",
        "        'ADJ': int(0),\n",
        "        #'ADP': int(0),\n",
        "        'ADV': int(0),\n",
        "        #'AUX': int(0),\n",
        "        #'CONJ': int(0),\n",
        "        #'DET': int(0),\n",
        "        #'INTJ': int(0),\n",
        "        #'NUM': int(0),\n",
        "        #'PART': int(0),\n",
        "        #'PRON': int(0),\n",
        "        #'PROPN': int(0),\n",
        "        #'PUNCT': int(0),\n",
        "        'CCONJ': int(0),\n",
        "        #'SCONJ': int(0),\n",
        "        #'SYM' : int(0),\n",
        "        'VERB' : int(0),\n",
        "        #'SPACE' : int(0),\n",
        "        'NOUN' : int(0),\n",
        "        #'X' : int(0)  \n",
        "    }\n",
        "    \n",
        "\n",
        "  for token in doc:\n",
        "    #Check part-of-speech \n",
        "    if token.pos_ in count_dict.keys():\n",
        "      count_dict[token.pos_] = count_dict[token.pos_] + 1\n",
        " \n",
        "    #Check Holocaust Lexicon \n",
        "    for it_holo in holocaust:\n",
        "      if token.lemma_ == it_holo:\n",
        "         count_dict_1[token.lemma_] = count_dict_1[token.lemma_] + 1 \n",
        "\n",
        "  # Insert new row to partofspeech dataframe\n",
        "  df_partofspeech = df_partofspeech.append(count_dict, ignore_index=True)\n",
        "  # Insert new row to holocaust dataframe\n",
        "  df_holocaust = df_holocaust.append(count_dict_1, ignore_index=True)  \n",
        "\n",
        "\n",
        "#Atualiza o vetor de twitter com a versão normalizada  \n",
        "  df_lematized.append(texts)\n",
        "dataset['tweet'] = df_lematized\n",
        "#print(dataset['tweet'] )\n",
        "\n",
        "#Create the dataframe for sentiment score\n",
        "df_sent = pd.DataFrame(data=sent_score)\n",
        "#df_sent.columns = ['SENT']\n",
        "\n",
        "#Create the dataframe for holocaust score\n",
        "df_holoc = pd.DataFrame(data=df_holocaust)\n",
        "df_holoc.columns['HOLOC']"
      ],
      "execution_count": 90,
      "outputs": [
        {
          "output_type": "error",
          "ename": "KeyError",
          "evalue": "ignored",
          "traceback": [
            "\u001b[0;31m---------------------------------------------------------------------------\u001b[0m",
            "\u001b[0;31mKeyError\u001b[0m                                  Traceback (most recent call last)",
            "\u001b[0;32m<ipython-input-90-815d999cf889>\u001b[0m in \u001b[0;36m<module>\u001b[0;34m()\u001b[0m\n\u001b[1;32m    142\u001b[0m     \u001b[0;32mfor\u001b[0m \u001b[0mit_holo\u001b[0m \u001b[0;32min\u001b[0m \u001b[0mholocaust\u001b[0m\u001b[0;34m:\u001b[0m\u001b[0;34m\u001b[0m\u001b[0;34m\u001b[0m\u001b[0m\n\u001b[1;32m    143\u001b[0m       \u001b[0;32mif\u001b[0m \u001b[0mtoken\u001b[0m\u001b[0;34m.\u001b[0m\u001b[0mlemma_\u001b[0m \u001b[0;34m==\u001b[0m \u001b[0mit_holo\u001b[0m\u001b[0;34m:\u001b[0m\u001b[0;34m\u001b[0m\u001b[0;34m\u001b[0m\u001b[0m\n\u001b[0;32m--> 144\u001b[0;31m          \u001b[0mcount_dict_1\u001b[0m\u001b[0;34m[\u001b[0m\u001b[0mtoken\u001b[0m\u001b[0;34m.\u001b[0m\u001b[0mlemma_\u001b[0m\u001b[0;34m]\u001b[0m \u001b[0;34m=\u001b[0m \u001b[0mcount_dict_1\u001b[0m\u001b[0;34m[\u001b[0m\u001b[0mtoken\u001b[0m\u001b[0;34m.\u001b[0m\u001b[0mlemma_\u001b[0m\u001b[0;34m]\u001b[0m \u001b[0;34m+\u001b[0m \u001b[0;36m1\u001b[0m\u001b[0;34m\u001b[0m\u001b[0;34m\u001b[0m\u001b[0m\n\u001b[0m\u001b[1;32m    145\u001b[0m \u001b[0;34m\u001b[0m\u001b[0m\n\u001b[1;32m    146\u001b[0m   \u001b[0;31m# Insert new row to partofspeech dataframe\u001b[0m\u001b[0;34m\u001b[0m\u001b[0;34m\u001b[0m\u001b[0;34m\u001b[0m\u001b[0m\n",
            "\u001b[0;31mKeyError\u001b[0m: 'ss'"
          ]
        }
      ]
    },
    {
      "cell_type": "code",
      "metadata": {
        "id": "j8MZo5DQ-5i_",
        "outputId": "1ba4c4c9-5816-4a25-ab60-764003d62313",
        "colab": {
          "base_uri": "https://localhost:8080/",
          "height": 66,
          "referenced_widgets": [
            "a7a8ca65de604cdeb347f2940bec4208",
            "ca5c0983bc8447cd8123e91be72c484e",
            "0550e007944d475f8a5a5e6e7658bc7b",
            "873a9c0547de4c0fa5fa2ce1b3880974",
            "a9f1e3b2366b49cd8e41141d391335a5",
            "553c2900dfb44b83a0fd46b79e99472d",
            "7a91791ce47643169f6fd43a03dc7db1",
            "f518dcc6d53f4fcd8fb8508df7057560"
          ]
        }
      },
      "source": [
        "#Pre-processing using the BERT embeddings\n",
        "dataset['embedding'] = list(model.encode(dataset['tweet'].to_list()))"
      ],
      "execution_count": 71,
      "outputs": [
        {
          "output_type": "display_data",
          "data": {
            "application/vnd.jupyter.widget-view+json": {
              "model_id": "a7a8ca65de604cdeb347f2940bec4208",
              "version_minor": 0,
              "version_major": 2
            },
            "text/plain": [
              "HBox(children=(FloatProgress(value=0.0, description='Batches', max=29.0, style=ProgressStyle(description_width…"
            ]
          },
          "metadata": {
            "tags": []
          }
        },
        {
          "output_type": "stream",
          "text": [
            "\n"
          ],
          "name": "stdout"
        }
      ]
    },
    {
      "cell_type": "code",
      "metadata": {
        "id": "w-AumeUhh9jN"
      },
      "source": [
        "#Get the features using the Bert Embedding\n",
        "features_bert = np.array(dataset['embedding'].to_list())\n",
        "df_features = pd.DataFrame(data=features_bert, index=None, columns=None)\n",
        "\n",
        "#Insert the Score Sentiment column\n",
        "df_features['sent'] = df_sent['sent']\n",
        "\n",
        "df_features = pd.concat([df_features, df_partofspeech, df_holoc], axis=1)\n",
        "#axis = 0 ou axis = 1 define se vc quer juntar os dataframes por linha (igual o append) ou por coluna\n",
        "\n",
        "#Insert the class column\n",
        "df_features['class'] = dataset['class']"
      ],
      "execution_count": 78,
      "outputs": []
    },
    {
      "cell_type": "code",
      "metadata": {
        "id": "E-P5HGjDDEz3",
        "outputId": "5fb811f0-1644-43c5-88ed-eb5698a1d84e",
        "colab": {
          "base_uri": "https://localhost:8080/",
          "height": 514
        }
      },
      "source": [
        "#Separating features and class\n",
        "X = df_features.iloc[:, :-1]\n",
        "Y = df_features.iloc[:,-1]\n",
        "print('---------------------------(features)-------------------------------')\n",
        "print(X)\n",
        "print('---------------------------(class)----------------------------------')\n",
        "print(Y)"
      ],
      "execution_count": 79,
      "outputs": [
        {
          "output_type": "stream",
          "text": [
            "---------------------------(features)-------------------------------\n",
            "            0         1         2         3  ...  SCONJ  VERB  NOUN  holoc\n",
            "0   -0.001342  0.047095  0.011554 -0.015507  ...      0     1   5.0     21\n",
            "1   -0.015624 -0.027336  0.022726  0.020772  ...      0     0   4.0     18\n",
            "2   -0.016507  0.012304 -0.008938 -0.007753  ...      1     8   7.0     31\n",
            "3    0.006102  0.022479  0.032990 -0.006666  ...      0     6   2.0     57\n",
            "4    0.003250  0.053030 -0.016706  0.022350  ...      0     1   5.0      0\n",
            "..        ...       ...       ...       ...  ...    ...   ...   ...    ...\n",
            "911 -0.027590  0.071298  0.038307 -0.038175  ...      0     5   6.0     26\n",
            "912 -0.010234  0.027000  0.025385 -0.076390  ...      1     8  12.0    116\n",
            "913 -0.043198  0.063013 -0.020937 -0.027936  ...      1     4   7.0     68\n",
            "914  0.034999  0.056797  0.055051 -0.036932  ...      3     4   6.0     77\n",
            "915 -0.046636 -0.028576  0.001148 -0.011114  ...      0     2   2.0      0\n",
            "\n",
            "[916 rows x 528 columns]\n",
            "---------------------------(class)----------------------------------\n",
            "0      1\n",
            "1      4\n",
            "2      4\n",
            "3      3\n",
            "4      1\n",
            "      ..\n",
            "911    1\n",
            "912    1\n",
            "913    4\n",
            "914    2\n",
            "915    5\n",
            "Name: class, Length: 916, dtype: int64\n"
          ],
          "name": "stdout"
        }
      ]
    },
    {
      "cell_type": "code",
      "metadata": {
        "id": "J5oE7IGGijZB",
        "outputId": "d067bc0a-3aae-4167-9db1-2bd33ce9cc47",
        "colab": {
          "base_uri": "https://localhost:8080/",
          "height": 1000
        }
      },
      "source": [
        "#Separating test and training data\n",
        "validation_size = 0.20\n",
        "seed = 42\n",
        "X_train, X_validation, Y_train, Y_validation = model_selection.train_test_split(X, Y, test_size=validation_size, random_state=seed)\n",
        "scoring = 'accuracy'\n",
        "\n",
        "\n",
        "models = []\n",
        "models.append(('LR', LogisticRegression()))\n",
        "models.append(('LDA', LinearDiscriminantAnalysis()))\n",
        "models.append(('KNN', KNeighborsClassifier()))\n",
        "models.append(('CART', DecisionTreeClassifier()))\n",
        "models.append(('NB', GaussianNB()))\n",
        "models.append(('SVM', SVC()))\n",
        "\n",
        "#Cross-validation\n",
        "results = []\n",
        "names = []\n",
        "for name, model in models:\n",
        "\tkfold = model_selection.KFold(n_splits=10, random_state=None)\n",
        "\tcv_results = model_selection.cross_val_score(model, X_train, Y_train, cv=kfold, scoring=scoring)\n",
        "\tresults.append(cv_results)\n",
        "\tnames.append(name)\n",
        "\tmsg = \"%s: %f (%f)\" % (name, cv_results.mean(), cv_results.std())\n",
        "\tprint(msg)"
      ],
      "execution_count": 80,
      "outputs": [
        {
          "output_type": "stream",
          "text": [
            "/usr/local/lib/python3.6/dist-packages/sklearn/linear_model/_logistic.py:940: ConvergenceWarning: lbfgs failed to converge (status=1):\n",
            "STOP: TOTAL NO. of ITERATIONS REACHED LIMIT.\n",
            "\n",
            "Increase the number of iterations (max_iter) or scale the data as shown in:\n",
            "    https://scikit-learn.org/stable/modules/preprocessing.html\n",
            "Please also refer to the documentation for alternative solver options:\n",
            "    https://scikit-learn.org/stable/modules/linear_model.html#logistic-regression\n",
            "  extra_warning_msg=_LOGISTIC_SOLVER_CONVERGENCE_MSG)\n",
            "/usr/local/lib/python3.6/dist-packages/sklearn/linear_model/_logistic.py:940: ConvergenceWarning: lbfgs failed to converge (status=1):\n",
            "STOP: TOTAL NO. of ITERATIONS REACHED LIMIT.\n",
            "\n",
            "Increase the number of iterations (max_iter) or scale the data as shown in:\n",
            "    https://scikit-learn.org/stable/modules/preprocessing.html\n",
            "Please also refer to the documentation for alternative solver options:\n",
            "    https://scikit-learn.org/stable/modules/linear_model.html#logistic-regression\n",
            "  extra_warning_msg=_LOGISTIC_SOLVER_CONVERGENCE_MSG)\n",
            "/usr/local/lib/python3.6/dist-packages/sklearn/linear_model/_logistic.py:940: ConvergenceWarning: lbfgs failed to converge (status=1):\n",
            "STOP: TOTAL NO. of ITERATIONS REACHED LIMIT.\n",
            "\n",
            "Increase the number of iterations (max_iter) or scale the data as shown in:\n",
            "    https://scikit-learn.org/stable/modules/preprocessing.html\n",
            "Please also refer to the documentation for alternative solver options:\n",
            "    https://scikit-learn.org/stable/modules/linear_model.html#logistic-regression\n",
            "  extra_warning_msg=_LOGISTIC_SOLVER_CONVERGENCE_MSG)\n",
            "/usr/local/lib/python3.6/dist-packages/sklearn/linear_model/_logistic.py:940: ConvergenceWarning: lbfgs failed to converge (status=1):\n",
            "STOP: TOTAL NO. of ITERATIONS REACHED LIMIT.\n",
            "\n",
            "Increase the number of iterations (max_iter) or scale the data as shown in:\n",
            "    https://scikit-learn.org/stable/modules/preprocessing.html\n",
            "Please also refer to the documentation for alternative solver options:\n",
            "    https://scikit-learn.org/stable/modules/linear_model.html#logistic-regression\n",
            "  extra_warning_msg=_LOGISTIC_SOLVER_CONVERGENCE_MSG)\n",
            "/usr/local/lib/python3.6/dist-packages/sklearn/linear_model/_logistic.py:940: ConvergenceWarning: lbfgs failed to converge (status=1):\n",
            "STOP: TOTAL NO. of ITERATIONS REACHED LIMIT.\n",
            "\n",
            "Increase the number of iterations (max_iter) or scale the data as shown in:\n",
            "    https://scikit-learn.org/stable/modules/preprocessing.html\n",
            "Please also refer to the documentation for alternative solver options:\n",
            "    https://scikit-learn.org/stable/modules/linear_model.html#logistic-regression\n",
            "  extra_warning_msg=_LOGISTIC_SOLVER_CONVERGENCE_MSG)\n",
            "/usr/local/lib/python3.6/dist-packages/sklearn/linear_model/_logistic.py:940: ConvergenceWarning: lbfgs failed to converge (status=1):\n",
            "STOP: TOTAL NO. of ITERATIONS REACHED LIMIT.\n",
            "\n",
            "Increase the number of iterations (max_iter) or scale the data as shown in:\n",
            "    https://scikit-learn.org/stable/modules/preprocessing.html\n",
            "Please also refer to the documentation for alternative solver options:\n",
            "    https://scikit-learn.org/stable/modules/linear_model.html#logistic-regression\n",
            "  extra_warning_msg=_LOGISTIC_SOLVER_CONVERGENCE_MSG)\n",
            "/usr/local/lib/python3.6/dist-packages/sklearn/linear_model/_logistic.py:940: ConvergenceWarning: lbfgs failed to converge (status=1):\n",
            "STOP: TOTAL NO. of ITERATIONS REACHED LIMIT.\n",
            "\n",
            "Increase the number of iterations (max_iter) or scale the data as shown in:\n",
            "    https://scikit-learn.org/stable/modules/preprocessing.html\n",
            "Please also refer to the documentation for alternative solver options:\n",
            "    https://scikit-learn.org/stable/modules/linear_model.html#logistic-regression\n",
            "  extra_warning_msg=_LOGISTIC_SOLVER_CONVERGENCE_MSG)\n",
            "/usr/local/lib/python3.6/dist-packages/sklearn/linear_model/_logistic.py:940: ConvergenceWarning: lbfgs failed to converge (status=1):\n",
            "STOP: TOTAL NO. of ITERATIONS REACHED LIMIT.\n",
            "\n",
            "Increase the number of iterations (max_iter) or scale the data as shown in:\n",
            "    https://scikit-learn.org/stable/modules/preprocessing.html\n",
            "Please also refer to the documentation for alternative solver options:\n",
            "    https://scikit-learn.org/stable/modules/linear_model.html#logistic-regression\n",
            "  extra_warning_msg=_LOGISTIC_SOLVER_CONVERGENCE_MSG)\n",
            "/usr/local/lib/python3.6/dist-packages/sklearn/linear_model/_logistic.py:940: ConvergenceWarning: lbfgs failed to converge (status=1):\n",
            "STOP: TOTAL NO. of ITERATIONS REACHED LIMIT.\n",
            "\n",
            "Increase the number of iterations (max_iter) or scale the data as shown in:\n",
            "    https://scikit-learn.org/stable/modules/preprocessing.html\n",
            "Please also refer to the documentation for alternative solver options:\n",
            "    https://scikit-learn.org/stable/modules/linear_model.html#logistic-regression\n",
            "  extra_warning_msg=_LOGISTIC_SOLVER_CONVERGENCE_MSG)\n",
            "/usr/local/lib/python3.6/dist-packages/sklearn/linear_model/_logistic.py:940: ConvergenceWarning: lbfgs failed to converge (status=1):\n",
            "STOP: TOTAL NO. of ITERATIONS REACHED LIMIT.\n",
            "\n",
            "Increase the number of iterations (max_iter) or scale the data as shown in:\n",
            "    https://scikit-learn.org/stable/modules/preprocessing.html\n",
            "Please also refer to the documentation for alternative solver options:\n",
            "    https://scikit-learn.org/stable/modules/linear_model.html#logistic-regression\n",
            "  extra_warning_msg=_LOGISTIC_SOLVER_CONVERGENCE_MSG)\n"
          ],
          "name": "stderr"
        },
        {
          "output_type": "stream",
          "text": [
            "LR: 0.442484 (0.043467)\n",
            "LDA: 0.234950 (0.035948)\n",
            "KNN: 0.390744 (0.062633)\n",
            "CART: 0.325120 (0.053183)\n",
            "NB: 0.292373 (0.050541)\n",
            "SVM: 0.453425 (0.060390)\n"
          ],
          "name": "stdout"
        }
      ]
    },
    {
      "cell_type": "code",
      "metadata": {
        "id": "ahjO0zF1D3NL",
        "outputId": "257b6c5e-548a-4e96-de61-fc638cffcab6",
        "colab": {
          "base_uri": "https://localhost:8080/",
          "height": 34
        }
      },
      "source": [
        "#MLP classifier\n",
        "from sklearn.neural_network import MLPClassifier\n",
        "from sklearn.model_selection import cross_val_score\n",
        "\n",
        "def model_tester(inputs, target):\n",
        "  clf = MLPClassifier(hidden_layer_sizes=(5,), random_state=42, max_iter=10000)\n",
        "  scores = cross_val_score(clf, inputs, target, cv=10)\n",
        "  print(\"Score do classificador: %.2f\" % (scores.mean()*100))\n",
        "\n",
        "#Score\n",
        "model_tester(X, Y)"
      ],
      "execution_count": 36,
      "outputs": [
        {
          "output_type": "stream",
          "text": [
            "Score do classificador: 36.79\n"
          ],
          "name": "stdout"
        }
      ]
    }
  ]
}